{
 "cells": [
  {
   "cell_type": "code",
   "execution_count": 1,
   "id": "753670d1",
   "metadata": {},
   "outputs": [
    {
     "name": "stdout",
     "output_type": "stream",
     "text": [
      "Enter the first number: 3\n",
      "Enter the second number: 6\n",
      "Please enter an operator (+, -, *, /): -\n",
      "3 - 6 = -3\n",
      "Enter the first number: 7\n",
      "Enter the second number: 98\n",
      "Please enter an operator (+, -, *, /): q\n"
     ]
    }
   ],
   "source": [
    "def calculator():\n",
    "    while True:\n",
    "        num1 = int(input(\"Enter the first number: \"))\n",
    "        num2 = int(input(\"Enter the second number: \"))\n",
    "        operator = input(\"Please enter an operator (+, -, *, /): \")\n",
    "\n",
    "        if operator == \"+\":\n",
    "            print(f\"{num1} + {num2} = {num1 + num2}\")\n",
    "        elif operator == \"-\":\n",
    "            print(f\"{num1} - {num2} = {num1 - num2}\")\n",
    "        elif operator == \"*\":\n",
    "            print(f\"{num1} * {num2} = {num1 * num2}\")\n",
    "        elif operator == \"/\":\n",
    "            if num2 == 0:\n",
    "                print(\"Error: Cannot divide by zero.\")\n",
    "            else:\n",
    "                print(f\"{num1} / {num2} = {num1 / num2}\")\n",
    "        elif operator == 'q':\n",
    "            break\n",
    "        else:\n",
    "            print(\"Error: Invalid operator.\")\n",
    "calculator()"
   ]
  },
  {
   "cell_type": "code",
   "execution_count": null,
   "id": "a36d30d6",
   "metadata": {},
   "outputs": [],
   "source": []
  }
 ],
 "metadata": {
  "kernelspec": {
   "display_name": "Python 3 (ipykernel)",
   "language": "python",
   "name": "python3"
  },
  "language_info": {
   "codemirror_mode": {
    "name": "ipython",
    "version": 3
   },
   "file_extension": ".py",
   "mimetype": "text/x-python",
   "name": "python",
   "nbconvert_exporter": "python",
   "pygments_lexer": "ipython3",
   "version": "3.10.9"
  }
 },
 "nbformat": 4,
 "nbformat_minor": 5
}

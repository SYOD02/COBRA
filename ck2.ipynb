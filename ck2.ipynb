{
 "cells": [
  {
   "cell_type": "code",
   "execution_count": 2,
   "id": "2a29324a",
   "metadata": {},
   "outputs": [
    {
     "name": "stdout",
     "output_type": "stream",
     "text": [
      "Guess the number then WIN!6\n",
      "give me a higher number\n",
      "Guess the number then WIN!7\n",
      "give me a higher number\n",
      "Guess the number then WIN!8\n",
      "give me a higher number\n",
      "Guess the number then WIN!45\n",
      "give me a lower number\n",
      "Guess the number then WIN!34\n",
      "give me a higher number\n",
      "Guess the number then WIN!38\n",
      "give me a higher number\n",
      "Guess the number then WIN!40\n",
      "give me a higher number\n",
      "Guess the number then WIN!41\n",
      "bravo\n"
     ]
    }
   ],
   "source": [
    "from random import randint\n",
    "g = randint(1,100)\n",
    "while True:\n",
    "    number=input(\"Guess the number then WIN!\")\n",
    "    n = int(number)\n",
    "    if g == n:\n",
    "        print(\"bravo\")\n",
    "        break\n",
    "    elif g< n:\n",
    "        print(\"give me a lower number\")\n",
    "    else:\n",
    "        print(\"give me a higher number\")\n",
    "    "
   ]
  },
  {
   "cell_type": "code",
   "execution_count": null,
   "id": "847458f2",
   "metadata": {},
   "outputs": [],
   "source": []
  }
 ],
 "metadata": {
  "kernelspec": {
   "display_name": "Python 3 (ipykernel)",
   "language": "python",
   "name": "python3"
  },
  "language_info": {
   "codemirror_mode": {
    "name": "ipython",
    "version": 3
   },
   "file_extension": ".py",
   "mimetype": "text/x-python",
   "name": "python",
   "nbconvert_exporter": "python",
   "pygments_lexer": "ipython3",
   "version": "3.10.9"
  }
 },
 "nbformat": 4,
 "nbformat_minor": 5
}
